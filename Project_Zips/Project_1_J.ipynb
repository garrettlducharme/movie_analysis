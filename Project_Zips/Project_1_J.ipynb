{
 "cells": [
  {
   "cell_type": "code",
   "execution_count": 189,
   "metadata": {},
   "outputs": [],
   "source": [
    "import pandas as pd\n",
    "import numpy as np\n",
    "import matplotlib.pyplot as plt\n",
    "import seaborn as sns"
   ]
  },
  {
   "cell_type": "code",
   "execution_count": 190,
   "metadata": {},
   "outputs": [
    {
     "name": "stdout",
     "output_type": "stream",
     "text": [
      "The autoreload extension is already loaded. To reload it, use:\n",
      "  %reload_ext autoreload\n"
     ]
    }
   ],
   "source": [
    "%load_ext autoreload\n",
    "%autoreload 2\n",
    "%matplotlib inline"
   ]
  },
  {
   "cell_type": "code",
   "execution_count": 1149,
   "metadata": {},
   "outputs": [],
   "source": [
    "name_basics = pd.read_csv('imdb.name.basics.csv')\n",
    "title_akas = pd.read_csv('imdb.title.akas.csv')\n",
    "title_basics = pd.read_csv('imdb.title.basics.csv')\n",
    "title_crew = pd.read_csv('imdb.title.crew.csv')\n",
    "title_principals = pd.read_csv('imdb.title.principals.csv')\n",
    "title_ratings = pd.read_csv('imdb.title.ratings.csv')\n",
    "rt_info = pd.read_csv('rt.movie_info.tsv',delimiter = '\\t')\n",
    "rt_reviews = pd.read_csv('rt.reviews.tsv' , encoding = 'windows-1254',delimiter = '\\t')\n",
    "tmdb = pd.read_csv('tmdb.movies.csv')\n",
    "tn_budgets = pd.read_csv ('tn.movie_budgets.csv')\n",
    "bom = pd.read_csv('bom.movie_gross.csv')\n"
   ]
  },
  {
   "cell_type": "code",
   "execution_count": 1176,
   "metadata": {
    "scrolled": false
   },
   "outputs": [],
   "source": [
    "#tmdb.head()"
   ]
  },
  {
   "cell_type": "code",
   "execution_count": 1177,
   "metadata": {},
   "outputs": [],
   "source": [
    "#tn_budgets.head()"
   ]
  },
  {
   "cell_type": "code",
   "execution_count": 1178,
   "metadata": {},
   "outputs": [],
   "source": [
    "#tmdb.info()"
   ]
  },
  {
   "cell_type": "code",
   "execution_count": 1179,
   "metadata": {},
   "outputs": [],
   "source": [
    "#tn_budgets.info()"
   ]
  },
  {
   "cell_type": "code",
   "execution_count": 1180,
   "metadata": {},
   "outputs": [],
   "source": [
    "#from data_cleaner import clean_movie_budgets\n",
    "#from data_cleaner import clean_tmdb_movies"
   ]
  },
  {
   "cell_type": "code",
   "execution_count": 1181,
   "metadata": {},
   "outputs": [],
   "source": [
    "#tn_budgets_2['title'] = tn_budgets_2['movie']\n",
    "#tn_budgets_2.head()\n",
    "#tmdb_2.head()"
   ]
  },
  {
   "cell_type": "code",
   "execution_count": 211,
   "metadata": {},
   "outputs": [],
   "source": [
    "#not necessary\n",
    "#tn_sorted_titles = sorted(list(tn_budgets_2['movie']))\n",
    "#tmdb_sorted_titles = sorted(list(tmdb_2['original_title']))"
   ]
  },
  {
   "cell_type": "code",
   "execution_count": 1182,
   "metadata": {},
   "outputs": [],
   "source": [
    "#not necessary\n",
    "\n",
    "#shared_movies = []\n",
    "#for movie in tn_sorted_titles:\n",
    "#    if movie in tmdb_sorted_titles:\n",
    "#        shared_movies.append(movie)"
   ]
  },
  {
   "cell_type": "code",
   "execution_count": 1183,
   "metadata": {},
   "outputs": [],
   "source": [
    "#tmdb_2.set_index('title',inplace=True)\n",
    "#tn_budgets_2.set_index('title',inplace=True)\n",
    "\n",
    "#tmdb_2.sort_values('title').head()\n",
    "#tn_budgets_2.sort_values('title').head()\n",
    "\n",
    "#inner_join_df = tmdb_2.join(tn_budgets_2, rsuffix='_2', how='inner')\n",
    "\n",
    "#inner_join_df['production_budget'] = inner_join_df['production_budget']/(10**6)\n",
    "#inner_join_df['domestic_gross'] = inner_join_df['domestic_gross']/(10**6)\n",
    "#inner_join_df['worldwide_gross'] = inner_join_df['worldwide_gross']/(10**6)"
   ]
  },
  {
   "cell_type": "code",
   "execution_count": 1184,
   "metadata": {},
   "outputs": [],
   "source": [
    "#inner_2 = inner_join_df.drop(['id','original_title','release_date_2','id_2','movie',],axis=1)\n",
    "#inner_2 = inner_2.dropna()\n",
    "#inner_2 =inner_2[inner_2['original_language']=='en']\n",
    "#inner_2 = inner_2[inner_2['title'].duplicated(keep='first')==False]\n",
    "#inner_2.rename(columns = {'genre_ids':'genres'}, inplace = True) \n",
    "#inner_2.drop('original_language',axis=1,inplace=True) \n",
    "#inner_2.drop('title',axis=1,inplace=True)\n",
    "#inner_2['worldwide_to_pop'] = inner_2['worldwide_gross']/inner_2['popularity']\n",
    "#inner_2['domestic_to_pop'] = inner_2['domestic_gross']/inner_2['popularity']\n",
    "#inner_2.drop('Unnamed: 0',axis=1,inplace=True)\n",
    "#inner_2 = inner_2[inner_2['domestic_gross']>0]\n",
    "#inner_2= inner_2[inner_2['domestic_production_ratio']>1]\n",
    "#inner_2= inner_2[inner_2['worldwide_production_ratio']>1]\n",
    "#inner_2=inner_2[inner_2['vote_count']>100]"
   ]
  },
  {
   "cell_type": "code",
   "execution_count": 1185,
   "metadata": {
    "scrolled": false
   },
   "outputs": [],
   "source": [
    "#inner_genre=inner_2.copy()\n",
    "#inner_ratio=inner_2.copy()\n",
    "#inner_gross=inner_2.copy()\n",
    "#inner_genre.set_index('genres',inplace=True)\n",
    "#inner_ratio.set_index('worldwide_production_ratio',inplace=True)\n",
    "#inner_gross.set_index('worldwide_gross',inplace=True)`\n",
    "#inner_genre.sort_values('genres',inplace=True)\n",
    "#inner_gross.sort_values('worldwide_gross',inplace=True)\n",
    "#inner_ratio.sort_values('worldwide_production_ratio',inplace=True)"
   ]
  },
  {
   "cell_type": "code",
   "execution_count": 1187,
   "metadata": {
    "scrolled": true
   },
   "outputs": [],
   "source": [
    "#inner_400.head()"
   ]
  },
  {
   "cell_type": "code",
   "execution_count": 1064,
   "metadata": {},
   "outputs": [],
   "source": [
    "#inner_action = inner_2[inner_2['genres'].apply(lambda x: 'action' in x)]\n",
    "#inner_animated = inner_2[inner_2['genres'].apply(lambda x: 'animated' in x)]\n",
    "#inner_drama = inner_2[inner_2['genres'].apply(lambda x: 'drama' in x)]\n",
    "#inner_documentary = inner_2[inner_2['genres'].apply(lambda x: 'documentary' in x)]\n",
    "#inner_family = inner_2[inner_2['genres'].apply(lambda x: 'family' in x)]\n",
    "#inner_fantasy = inner_2[inner_2['genres'].apply(lambda x: 'fantasy' in x)]\n",
    "#inner_comedy = inner_2[inner_2['genres'].apply(lambda x: 'comedy' in x)]\n",
    "#inner_crime = inner_2[inner_2['genres'].apply(lambda x: 'crime' in x)]\n",
    "#inner_music = inner_2[inner_2['genres'].apply(lambda x: 'music' in x)]\n",
    "#inner_mystery = inner_2[inner_2['genres'].apply(lambda x: 'mystery' in x)]\n",
    "#inner_romance = inner_2[inner_2['genres'].apply(lambda x: 'mystery' in x)]\n",
    "#inner_horror = inner_2[inner_2['genres'].apply(lambda x: 'horror' in x)]\n",
    "#inner_thriller = inner_2[inner_2['genres'].apply(lambda x: 'thriller' in x)]\n",
    "#inner_western = inner_2[inner_2['genres'].apply(lambda x: 'western' in x)]\n",
    "#inner_adventure = inner_2[inner_2['genres'].apply(lambda x: 'adventure' in x)]\n",
    "#inner_scifi = inner_2[inner_2['genres'].apply(lambda x: 'sci-fi' in x)]\n",
    "\n",
    "\n"
   ]
  },
  {
   "cell_type": "code",
   "execution_count": 1065,
   "metadata": {},
   "outputs": [],
   "source": [
    "# action animated documentary drama family fantasy history comedy war\n",
    "# crime music mystery romance sci fi horror TV movie thriller western adventure\n",
    "#sns.scatterplot(inner_animated['vote_average'],inner_animated['worldwide_production_ratio'])\n",
    "#sns.scatterplot(inner_action['popularity'],inner_action['worldwide_production_ratio'])\n",
    "#sns.scatterplot(inner_action['vote_average'],inner_action['worldwide_gross'])\n",
    "#sns.scatterplot(inner_action['popularity'],inner_action['worldwide_production_ratio'])\n",
    "#plt.ylim(0,10)\n",
    "#plt.xlim(5,10)"
   ]
  },
  {
   "cell_type": "code",
   "execution_count": 1143,
   "metadata": {},
   "outputs": [],
   "source": [
    "def make_regplots(df, x_axis, y_axis, genres):\n",
    "    fig, axs = plt.subplots(1,1, figsize = (8,6))\n",
    "    for i, genre in enumerate(genres):\n",
    "        row = i//2\n",
    "        col = i%2\n",
    "        #axs[row,col].set_xlim(0,30)\n",
    "        #axs[row,col].set_ylim(0,40)\n",
    "        axs.set_title(f'{y_axis} vs {x_axis} for {genre}')\n",
    "        plot_df = df[df['genres'].apply(lambda x: genre in x)]\n",
    "        sns.regplot(plot_df[x_axis],plot_df[y_axis], \n",
    "                    ax = axs)\n",
    "        \n",
    "    plt.tight_layout()"
   ]
  },
  {
   "cell_type": "code",
   "execution_count": 1156,
   "metadata": {},
   "outputs": [],
   "source": [
    "#inner_400 = inner_2.sort_values(by='popularity',ascending=False).iloc[:101]\n",
    "#inner_400.head()"
   ]
  },
  {
   "cell_type": "code",
   "execution_count": 1164,
   "metadata": {},
   "outputs": [],
   "source": [
    "#make_regplots(inner_400,'vote_average','worldwide_gross', ['action'])\n",
    "#plt.title('Effect of Rating on Revenue')"
   ]
  },
  {
   "cell_type": "code",
   "execution_count": 1165,
   "metadata": {
    "scrolled": true
   },
   "outputs": [],
   "source": [
    "#make_regplots(inner_400,'vote_average','worldwide_production_ratio', ['action','sci-fi','adventure','fantasy'])"
   ]
  },
  {
   "cell_type": "code",
   "execution_count": 1166,
   "metadata": {},
   "outputs": [],
   "source": [
    "#make_regplots(inner_400,'vote_average','worldwide_gross',['action','sci-fi','adventure','fantasy'])"
   ]
  },
  {
   "cell_type": "code",
   "execution_count": 1167,
   "metadata": {},
   "outputs": [],
   "source": [
    "#make_regplots(inner_400,'popularity','worldwide_production_ratio', ['action','sci-fi','adventure','fantasy'])"
   ]
  },
  {
   "cell_type": "code",
   "execution_count": 1168,
   "metadata": {},
   "outputs": [],
   "source": [
    "#make_regplots(inner_400,'popularity','worldwide_gross',['action','sci-fi','adventure','fantasy'])"
   ]
  },
  {
   "cell_type": "code",
   "execution_count": 1169,
   "metadata": {},
   "outputs": [],
   "source": [
    "#make_regplots(inner_400,'production_budget','popularity',['action','sci-fi','adventure','fantasy'])"
   ]
  },
  {
   "cell_type": "code",
   "execution_count": 1170,
   "metadata": {},
   "outputs": [],
   "source": [
    "#make_regplots(inner_2,'production_budget','worldwide_production_ratio',\n",
    "             #['action','sci-fi','adventure','fantasy','war'])\n",
    "#make_regplots(inner_400,'production_budget','domestic_production_ratio',\n",
    "             #['action','sci-fi','adventure','fantasy','war'])"
   ]
  },
  {
   "cell_type": "code",
   "execution_count": 1171,
   "metadata": {},
   "outputs": [],
   "source": [
    "plt.rcParams['font.family'] = 'DejaVu Sans'\n",
    "plt.rcParams['font.serif'] = 'Ubuntu'\n",
    "plt.rcParams['font.monospace'] = 'Ubuntu Mono'\n",
    "plt.rcParams['font.size'] = 12\n",
    "plt.rcParams['axes.labelsize'] = 12\n",
    "plt.rcParams['axes.labelweight'] = 'normal'\n",
    "plt.rcParams['xtick.labelsize'] = 12\n",
    "plt.rcParams['ytick.labelsize'] = 12\n",
    "plt.rcParams['legend.fontsize'] = 12\n",
    "plt.rcParams['figure.titlesize'] = 12"
   ]
  },
  {
   "cell_type": "code",
   "execution_count": 1172,
   "metadata": {},
   "outputs": [],
   "source": [
    "#sns.scatterplot(inner_400['production_budget'],inner_400['worldwide_production_ratio']).set_title('Effect of Budget on Profitability')\n",
    "#plt.axvline(200)\n",
    "#plt.axhline(5.5)"
   ]
  },
  {
   "cell_type": "code",
   "execution_count": 1173,
   "metadata": {
    "scrolled": true
   },
   "outputs": [],
   "source": [
    "#sns.scatterplot(inner_400['production_budget'],inner_400['worldwide_gross']).set_title('Effect of Budget on Revenue')"
   ]
  },
  {
   "cell_type": "code",
   "execution_count": 1174,
   "metadata": {},
   "outputs": [],
   "source": [
    "#sns.regplot(inner_400['vote_average'],inner_400['worldwide_gross']).set_title('Effect of Action Movie Rating on Revenue')\n",
    "#plt.xlim(5.5,8)"
   ]
  },
  {
   "cell_type": "code",
   "execution_count": 1175,
   "metadata": {
    "scrolled": true
   },
   "outputs": [],
   "source": [
    "#make_regplots(inner_400,'vote_average','worldwide_gross',['action']).set_title('Effect of Votes on Revenue')"
   ]
  },
  {
   "cell_type": "code",
   "execution_count": 1157,
   "metadata": {},
   "outputs": [],
   "source": [
    "#make_regplots(inner_400,'production_budget','worldwide_production_ratio',['action','sci-fi','adventure','fantasy'])"
   ]
  },
  {
   "cell_type": "code",
   "execution_count": 1086,
   "metadata": {},
   "outputs": [],
   "source": [
    "#sns.regplot(inner_2['vote_count'],inner_2['popularity'])"
   ]
  },
  {
   "cell_type": "code",
   "execution_count": 848,
   "metadata": {},
   "outputs": [],
   "source": [
    "#sns.scatterplot(inner_2['worldwide_gross'],inner_2['vote_average'])\n",
    "#plt.axhline(y=5.5)\n",
    "#plt.axvline(x=40)"
   ]
  },
  {
   "cell_type": "code",
   "execution_count": 667,
   "metadata": {},
   "outputs": [],
   "source": [
    "# inner_genres = [inner_2[]]\n",
    "# try and focus on movie genres and plot against dom_gross\n",
    "# try and show that less popular genres don't make as much money\n",
    "# look at domgrss and worldwidegross by genre\n",
    "# genres that are popular - high gross - and good profit ratio\n",
    "\n",
    "\n",
    "# look at genre against popularity than gross than ratios \n",
    "# ater that see if genres which are most popular actually drive profits and profit ratios"
   ]
  },
  {
   "cell_type": "code",
   "execution_count": 991,
   "metadata": {},
   "outputs": [],
   "source": [
    "#name_basics.head()\n",
    "#title_basics.head()\n",
    "#title_crew.head()\n",
    "#title_principals.head()\n",
    "#title_ratings.head()\n",
    "#rt_info.head()\n",
    "#rt_reviews.head()\n",
    "#bom.head()\n",
    "#title_akas.head()\n",
    "#inner_4123 = inner_join_df = title_akas.join(rt_info, rsuffix='_2', how='inner')"
   ]
  }
 ],
 "metadata": {
  "kernelspec": {
   "display_name": "Python 3",
   "language": "python",
   "name": "python3"
  },
  "language_info": {
   "codemirror_mode": {
    "name": "ipython",
    "version": 3
   },
   "file_extension": ".py",
   "mimetype": "text/x-python",
   "name": "python",
   "nbconvert_exporter": "python",
   "pygments_lexer": "ipython3",
   "version": "3.7.4"
  }
 },
 "nbformat": 4,
 "nbformat_minor": 4
}
