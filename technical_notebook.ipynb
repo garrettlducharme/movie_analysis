{
 "cells": [
  {
   "cell_type": "markdown",
   "metadata": {},
   "source": [
    "# Determining important factors for popular movies post 2010\n",
    "\n",
    "## Introduction\n",
    "\n",
    "In this notebook we will explore some of the characteristics of the most successful movies from the last 10 years. This analysis was done using data from the tmdb movies database (tmdb.movies.csv) and The Numbers (tn.movie_budgets.csv) database. We will start with a look at the original data and then discuss the process for cleaning and merging these two databases into a single dataframe. From this final datatframe we generate several plots and tables that will help us draw conclusions about important characteristics for successful movies."
   ]
  },
  {
   "cell_type": "markdown",
   "metadata": {},
   "source": [
    "## Importing Modules\n",
    "\n",
    "numpy, matplotlib, seaborn, and pandas serve as the basis for our analysis. The data_cleaner module that we important here was written to compactify all of the cleaning that we do on the dataframes. We'll also set some rcParams here to make our plots a little prettier."
   ]
  },
  {
   "cell_type": "code",
   "execution_count": 2,
   "metadata": {},
   "outputs": [],
   "source": [
    "import numpy as np\n",
    "import matplotlib.pyplot as plt\n",
    "import seaborn as sns\n",
    "import pandas as pd\n",
    "\n",
    "from data_cleaner import clean_movie_budgets\n",
    "from data_cleaner import clean_tmdb_movies\n",
    "from data_cleaner import join_dataframes\n",
    "\n",
    "from movie_data_plotter import plot_genre_counts\n",
    "from movie_data_plotter import plot_avg_genre_stats\n",
    "\n",
    "%matplotlib inline\n",
    "%load_ext autoreload\n",
    "%autoreload 2\n",
    "\n",
    "pd.options.mode.chained_assignment = None  # default='warn'"
   ]
  },
  {
   "cell_type": "code",
   "execution_count": 3,
   "metadata": {},
   "outputs": [],
   "source": [
    "plt.rcParams['font.family'] = 'DejaVu Sans'\n",
    "plt.rcParams['font.serif'] = 'Ubuntu'\n",
    "plt.rcParams['font.monospace'] = 'Ubuntu Mono'\n",
    "plt.rcParams['font.size'] = 12\n",
    "plt.rcParams['axes.labelsize'] = 12\n",
    "plt.rcParams['axes.labelweight'] = 'normal'\n",
    "plt.rcParams['xtick.labelsize'] = 12\n",
    "plt.rcParams['ytick.labelsize'] = 12\n",
    "plt.rcParams['legend.fontsize'] = 12\n",
    "plt.rcParams['figure.titlesize'] = 12"
   ]
  },
  {
   "cell_type": "markdown",
   "metadata": {},
   "source": [
    "## Importing the data"
   ]
  },
  {
   "cell_type": "code",
   "execution_count": 4,
   "metadata": {},
   "outputs": [],
   "source": [
    "tmdb_movies_df = pd.read_csv('data/tmdb.movies.csv')\n",
    "tn_budgets_df = pd.read_csv('data/tn.movie_budgets.csv')"
   ]
  },
  {
   "cell_type": "markdown",
   "metadata": {},
   "source": [
    "## A first look at the raw data\n",
    "\n",
    "Let's take a look at the heads of these two dataframes to see what we're working with. We'll also call .info() to get a quick look at any of the information that might be missing."
   ]
  },
  {
   "cell_type": "code",
   "execution_count": 5,
   "metadata": {},
   "outputs": [
    {
     "data": {
      "text/html": [
       "<div>\n",
       "<style scoped>\n",
       "    .dataframe tbody tr th:only-of-type {\n",
       "        vertical-align: middle;\n",
       "    }\n",
       "\n",
       "    .dataframe tbody tr th {\n",
       "        vertical-align: top;\n",
       "    }\n",
       "\n",
       "    .dataframe thead th {\n",
       "        text-align: right;\n",
       "    }\n",
       "</style>\n",
       "<table border=\"1\" class=\"dataframe\">\n",
       "  <thead>\n",
       "    <tr style=\"text-align: right;\">\n",
       "      <th></th>\n",
       "      <th>Unnamed: 0</th>\n",
       "      <th>genre_ids</th>\n",
       "      <th>id</th>\n",
       "      <th>original_language</th>\n",
       "      <th>original_title</th>\n",
       "      <th>popularity</th>\n",
       "      <th>release_date</th>\n",
       "      <th>title</th>\n",
       "      <th>vote_average</th>\n",
       "      <th>vote_count</th>\n",
       "    </tr>\n",
       "  </thead>\n",
       "  <tbody>\n",
       "    <tr>\n",
       "      <td>0</td>\n",
       "      <td>0</td>\n",
       "      <td>[12, 14, 10751]</td>\n",
       "      <td>12444</td>\n",
       "      <td>en</td>\n",
       "      <td>Harry Potter and the Deathly Hallows: Part 1</td>\n",
       "      <td>33.533</td>\n",
       "      <td>2010-11-19</td>\n",
       "      <td>Harry Potter and the Deathly Hallows: Part 1</td>\n",
       "      <td>7.7</td>\n",
       "      <td>10788</td>\n",
       "    </tr>\n",
       "    <tr>\n",
       "      <td>1</td>\n",
       "      <td>1</td>\n",
       "      <td>[14, 12, 16, 10751]</td>\n",
       "      <td>10191</td>\n",
       "      <td>en</td>\n",
       "      <td>How to Train Your Dragon</td>\n",
       "      <td>28.734</td>\n",
       "      <td>2010-03-26</td>\n",
       "      <td>How to Train Your Dragon</td>\n",
       "      <td>7.7</td>\n",
       "      <td>7610</td>\n",
       "    </tr>\n",
       "    <tr>\n",
       "      <td>2</td>\n",
       "      <td>2</td>\n",
       "      <td>[12, 28, 878]</td>\n",
       "      <td>10138</td>\n",
       "      <td>en</td>\n",
       "      <td>Iron Man 2</td>\n",
       "      <td>28.515</td>\n",
       "      <td>2010-05-07</td>\n",
       "      <td>Iron Man 2</td>\n",
       "      <td>6.8</td>\n",
       "      <td>12368</td>\n",
       "    </tr>\n",
       "    <tr>\n",
       "      <td>3</td>\n",
       "      <td>3</td>\n",
       "      <td>[16, 35, 10751]</td>\n",
       "      <td>862</td>\n",
       "      <td>en</td>\n",
       "      <td>Toy Story</td>\n",
       "      <td>28.005</td>\n",
       "      <td>1995-11-22</td>\n",
       "      <td>Toy Story</td>\n",
       "      <td>7.9</td>\n",
       "      <td>10174</td>\n",
       "    </tr>\n",
       "    <tr>\n",
       "      <td>4</td>\n",
       "      <td>4</td>\n",
       "      <td>[28, 878, 12]</td>\n",
       "      <td>27205</td>\n",
       "      <td>en</td>\n",
       "      <td>Inception</td>\n",
       "      <td>27.920</td>\n",
       "      <td>2010-07-16</td>\n",
       "      <td>Inception</td>\n",
       "      <td>8.3</td>\n",
       "      <td>22186</td>\n",
       "    </tr>\n",
       "  </tbody>\n",
       "</table>\n",
       "</div>"
      ],
      "text/plain": [
       "   Unnamed: 0            genre_ids     id original_language  \\\n",
       "0           0      [12, 14, 10751]  12444                en   \n",
       "1           1  [14, 12, 16, 10751]  10191                en   \n",
       "2           2        [12, 28, 878]  10138                en   \n",
       "3           3      [16, 35, 10751]    862                en   \n",
       "4           4        [28, 878, 12]  27205                en   \n",
       "\n",
       "                                 original_title  popularity release_date  \\\n",
       "0  Harry Potter and the Deathly Hallows: Part 1      33.533   2010-11-19   \n",
       "1                      How to Train Your Dragon      28.734   2010-03-26   \n",
       "2                                    Iron Man 2      28.515   2010-05-07   \n",
       "3                                     Toy Story      28.005   1995-11-22   \n",
       "4                                     Inception      27.920   2010-07-16   \n",
       "\n",
       "                                          title  vote_average  vote_count  \n",
       "0  Harry Potter and the Deathly Hallows: Part 1           7.7       10788  \n",
       "1                      How to Train Your Dragon           7.7        7610  \n",
       "2                                    Iron Man 2           6.8       12368  \n",
       "3                                     Toy Story           7.9       10174  \n",
       "4                                     Inception           8.3       22186  "
      ]
     },
     "execution_count": 5,
     "metadata": {},
     "output_type": "execute_result"
    }
   ],
   "source": [
    "tmdb_movies_df.head()"
   ]
  },
  {
   "cell_type": "code",
   "execution_count": 6,
   "metadata": {},
   "outputs": [
    {
     "name": "stdout",
     "output_type": "stream",
     "text": [
      "<class 'pandas.core.frame.DataFrame'>\n",
      "RangeIndex: 26517 entries, 0 to 26516\n",
      "Data columns (total 10 columns):\n",
      "Unnamed: 0           26517 non-null int64\n",
      "genre_ids            26517 non-null object\n",
      "id                   26517 non-null int64\n",
      "original_language    26517 non-null object\n",
      "original_title       26517 non-null object\n",
      "popularity           26517 non-null float64\n",
      "release_date         26517 non-null object\n",
      "title                26517 non-null object\n",
      "vote_average         26517 non-null float64\n",
      "vote_count           26517 non-null int64\n",
      "dtypes: float64(2), int64(3), object(5)\n",
      "memory usage: 2.0+ MB\n"
     ]
    }
   ],
   "source": [
    "tmdb_movies_df.info()"
   ]
  },
  {
   "cell_type": "code",
   "execution_count": 7,
   "metadata": {},
   "outputs": [
    {
     "data": {
      "text/html": [
       "<div>\n",
       "<style scoped>\n",
       "    .dataframe tbody tr th:only-of-type {\n",
       "        vertical-align: middle;\n",
       "    }\n",
       "\n",
       "    .dataframe tbody tr th {\n",
       "        vertical-align: top;\n",
       "    }\n",
       "\n",
       "    .dataframe thead th {\n",
       "        text-align: right;\n",
       "    }\n",
       "</style>\n",
       "<table border=\"1\" class=\"dataframe\">\n",
       "  <thead>\n",
       "    <tr style=\"text-align: right;\">\n",
       "      <th></th>\n",
       "      <th>id</th>\n",
       "      <th>release_date</th>\n",
       "      <th>movie</th>\n",
       "      <th>production_budget</th>\n",
       "      <th>domestic_gross</th>\n",
       "      <th>worldwide_gross</th>\n",
       "    </tr>\n",
       "  </thead>\n",
       "  <tbody>\n",
       "    <tr>\n",
       "      <td>0</td>\n",
       "      <td>1</td>\n",
       "      <td>Dec 18, 2009</td>\n",
       "      <td>Avatar</td>\n",
       "      <td>$425,000,000</td>\n",
       "      <td>$760,507,625</td>\n",
       "      <td>$2,776,345,279</td>\n",
       "    </tr>\n",
       "    <tr>\n",
       "      <td>1</td>\n",
       "      <td>2</td>\n",
       "      <td>May 20, 2011</td>\n",
       "      <td>Pirates of the Caribbean: On Stranger Tides</td>\n",
       "      <td>$410,600,000</td>\n",
       "      <td>$241,063,875</td>\n",
       "      <td>$1,045,663,875</td>\n",
       "    </tr>\n",
       "    <tr>\n",
       "      <td>2</td>\n",
       "      <td>3</td>\n",
       "      <td>Jun 7, 2019</td>\n",
       "      <td>Dark Phoenix</td>\n",
       "      <td>$350,000,000</td>\n",
       "      <td>$42,762,350</td>\n",
       "      <td>$149,762,350</td>\n",
       "    </tr>\n",
       "    <tr>\n",
       "      <td>3</td>\n",
       "      <td>4</td>\n",
       "      <td>May 1, 2015</td>\n",
       "      <td>Avengers: Age of Ultron</td>\n",
       "      <td>$330,600,000</td>\n",
       "      <td>$459,005,868</td>\n",
       "      <td>$1,403,013,963</td>\n",
       "    </tr>\n",
       "    <tr>\n",
       "      <td>4</td>\n",
       "      <td>5</td>\n",
       "      <td>Dec 15, 2017</td>\n",
       "      <td>Star Wars Ep. VIII: The Last Jedi</td>\n",
       "      <td>$317,000,000</td>\n",
       "      <td>$620,181,382</td>\n",
       "      <td>$1,316,721,747</td>\n",
       "    </tr>\n",
       "  </tbody>\n",
       "</table>\n",
       "</div>"
      ],
      "text/plain": [
       "   id  release_date                                        movie  \\\n",
       "0   1  Dec 18, 2009                                       Avatar   \n",
       "1   2  May 20, 2011  Pirates of the Caribbean: On Stranger Tides   \n",
       "2   3   Jun 7, 2019                                 Dark Phoenix   \n",
       "3   4   May 1, 2015                      Avengers: Age of Ultron   \n",
       "4   5  Dec 15, 2017            Star Wars Ep. VIII: The Last Jedi   \n",
       "\n",
       "  production_budget domestic_gross worldwide_gross  \n",
       "0      $425,000,000   $760,507,625  $2,776,345,279  \n",
       "1      $410,600,000   $241,063,875  $1,045,663,875  \n",
       "2      $350,000,000    $42,762,350    $149,762,350  \n",
       "3      $330,600,000   $459,005,868  $1,403,013,963  \n",
       "4      $317,000,000   $620,181,382  $1,316,721,747  "
      ]
     },
     "execution_count": 7,
     "metadata": {},
     "output_type": "execute_result"
    }
   ],
   "source": [
    "tn_budgets_df.head()"
   ]
  },
  {
   "cell_type": "code",
   "execution_count": 8,
   "metadata": {},
   "outputs": [
    {
     "name": "stdout",
     "output_type": "stream",
     "text": [
      "<class 'pandas.core.frame.DataFrame'>\n",
      "RangeIndex: 5782 entries, 0 to 5781\n",
      "Data columns (total 6 columns):\n",
      "id                   5782 non-null int64\n",
      "release_date         5782 non-null object\n",
      "movie                5782 non-null object\n",
      "production_budget    5782 non-null object\n",
      "domestic_gross       5782 non-null object\n",
      "worldwide_gross      5782 non-null object\n",
      "dtypes: int64(1), object(5)\n",
      "memory usage: 271.2+ KB\n"
     ]
    }
   ],
   "source": [
    "tn_budgets_df.info()"
   ]
  },
  {
   "cell_type": "markdown",
   "metadata": {},
   "source": [
    "---\n",
    "## Methodology\n",
    "\n",
    "Right away we see that there aren't any null values in the tmdb database, which is a nice thing to see. We can definitely get rid of the unnamed column as it just seems to be an extra index. The genre ids will need to be associated with an actual genre name, but it shouldn't be too difficult to find that information. Since the id column in this dataframe doesn't match with the one in the numbers dataframe, we can drop it as well. We don't really know much about the foregin film industry, so it seems that the original language column will be useful in filtering out movies not produced in America. We'll drop the original titles as well because those might make things confusing. It's also nice to see the release date listed here as that will make it easy to filter out anything that was released before 2010. Lastly, we'll be keeping the popularity, vote_average (rating), and vote_count columns as those will be important for determing what makes recent movies so successful.\n",
    "\n",
    "The info method also tells us that there aren't any nulls in the numbers dataframe. Another win! We'll drop the id column here and also filter by release date just like in the tmdb database. The production budget, domestic gross, and worldwide gross are definitely going to be important for determining our measures for success, so we'll need to keep those.\n",
    "\n",
    "With all of this in mind, the most obvious way to merge these two dataframes after cleaning is to use the title columns. We'll perform the cleaning and joining using our modules in the cell below."
   ]
  },
  {
   "cell_type": "code",
   "execution_count": 9,
   "metadata": {},
   "outputs": [
    {
     "name": "stderr",
     "output_type": "stream",
     "text": [
      "/Users/garrett/opt/anaconda3/envs/learn-env/lib/python3.6/site-packages/pandas/core/frame.py:4102: SettingWithCopyWarning: \n",
      "A value is trying to be set on a copy of a slice from a DataFrame\n",
      "\n",
      "See the caveats in the documentation: http://pandas.pydata.org/pandas-docs/stable/user_guide/indexing.html#returning-a-view-versus-a-copy\n",
      "  errors=errors,\n"
     ]
    }
   ],
   "source": [
    "clean_tmdb_movies_df = clean_tmdb_movies(tmdb_movies_df)\n",
    "clean_tn_budgets_df = clean_movie_budgets(tn_budgets_df)\n",
    "joined_movies_df = join_dataframes(clean_tmdb_movies_df, clean_tn_budgets_df)"
   ]
  },
  {
   "cell_type": "markdown",
   "metadata": {},
   "source": [
    "During the cleaning and joining we've done a few things in addition to dropping columns. First, we've removed any of the production budgets, domestic grosses, and worldwide grosses with values listed as 0, as these won't be interesting in our analysis. We've also converted the values in these columns to millions of dollars so that they're easier to read. Lastly, we've created some new columns in order to determine ratios between profit and production budget on the domestic and worldwide scales. There is also a column called worldwide_domestic_ratio, which determines how much more money a movie will make when it's released worldwide. Here are the results:"
   ]
  },
  {
   "cell_type": "code",
   "execution_count": 10,
   "metadata": {},
   "outputs": [
    {
     "data": {
      "text/html": [
       "<div>\n",
       "<style scoped>\n",
       "    .dataframe tbody tr th:only-of-type {\n",
       "        vertical-align: middle;\n",
       "    }\n",
       "\n",
       "    .dataframe tbody tr th {\n",
       "        vertical-align: top;\n",
       "    }\n",
       "\n",
       "    .dataframe thead th {\n",
       "        text-align: right;\n",
       "    }\n",
       "</style>\n",
       "<table border=\"1\" class=\"dataframe\">\n",
       "  <thead>\n",
       "    <tr style=\"text-align: right;\">\n",
       "      <th></th>\n",
       "      <th>genres</th>\n",
       "      <th>popularity</th>\n",
       "      <th>vote_average</th>\n",
       "      <th>vote_count</th>\n",
       "      <th>production_budget ($M)</th>\n",
       "      <th>domestic_gross ($M)</th>\n",
       "      <th>worldwide_gross ($M)</th>\n",
       "      <th>domestic_production_ratio</th>\n",
       "      <th>worldwide_production_ratio</th>\n",
       "      <th>worldwide_domestic_ratio</th>\n",
       "    </tr>\n",
       "    <tr>\n",
       "      <th>title</th>\n",
       "      <th></th>\n",
       "      <th></th>\n",
       "      <th></th>\n",
       "      <th></th>\n",
       "      <th></th>\n",
       "      <th></th>\n",
       "      <th></th>\n",
       "      <th></th>\n",
       "      <th></th>\n",
       "      <th></th>\n",
       "    </tr>\n",
       "  </thead>\n",
       "  <tbody>\n",
       "    <tr>\n",
       "      <td>10 Cloverfield Lane</td>\n",
       "      <td>[thriller, sci-fi, drama]</td>\n",
       "      <td>17.892</td>\n",
       "      <td>6.9</td>\n",
       "      <td>4629</td>\n",
       "      <td>5.0</td>\n",
       "      <td>72.1</td>\n",
       "      <td>108.3</td>\n",
       "      <td>14.42</td>\n",
       "      <td>21.66</td>\n",
       "      <td>1.50</td>\n",
       "    </tr>\n",
       "    <tr>\n",
       "      <td>12 Strong</td>\n",
       "      <td>[war, drama, history, action]</td>\n",
       "      <td>13.183</td>\n",
       "      <td>5.6</td>\n",
       "      <td>1312</td>\n",
       "      <td>35.0</td>\n",
       "      <td>45.8</td>\n",
       "      <td>71.1</td>\n",
       "      <td>1.31</td>\n",
       "      <td>2.03</td>\n",
       "      <td>1.55</td>\n",
       "    </tr>\n",
       "    <tr>\n",
       "      <td>12 Years a Slave</td>\n",
       "      <td>[drama, history]</td>\n",
       "      <td>16.493</td>\n",
       "      <td>7.9</td>\n",
       "      <td>6631</td>\n",
       "      <td>20.0</td>\n",
       "      <td>56.7</td>\n",
       "      <td>181.0</td>\n",
       "      <td>2.84</td>\n",
       "      <td>9.05</td>\n",
       "      <td>3.19</td>\n",
       "    </tr>\n",
       "    <tr>\n",
       "      <td>127 Hours</td>\n",
       "      <td>[adventure, drama, thriller]</td>\n",
       "      <td>11.435</td>\n",
       "      <td>7.0</td>\n",
       "      <td>4469</td>\n",
       "      <td>18.0</td>\n",
       "      <td>18.3</td>\n",
       "      <td>60.2</td>\n",
       "      <td>1.02</td>\n",
       "      <td>3.34</td>\n",
       "      <td>3.29</td>\n",
       "    </tr>\n",
       "    <tr>\n",
       "      <td>13 Hours: The Secret Soldiers of Benghazi</td>\n",
       "      <td>[action, drama, history, thriller, war]</td>\n",
       "      <td>21.486</td>\n",
       "      <td>7.0</td>\n",
       "      <td>1573</td>\n",
       "      <td>50.0</td>\n",
       "      <td>52.9</td>\n",
       "      <td>69.4</td>\n",
       "      <td>1.06</td>\n",
       "      <td>1.39</td>\n",
       "      <td>1.31</td>\n",
       "    </tr>\n",
       "  </tbody>\n",
       "</table>\n",
       "</div>"
      ],
      "text/plain": [
       "                                                                            genres  \\\n",
       "title                                                                                \n",
       "10 Cloverfield Lane                                      [thriller, sci-fi, drama]   \n",
       "12 Strong                                            [war, drama, history, action]   \n",
       "12 Years a Slave                                                  [drama, history]   \n",
       "127 Hours                                             [adventure, drama, thriller]   \n",
       "13 Hours: The Secret Soldiers of Benghazi  [action, drama, history, thriller, war]   \n",
       "\n",
       "                                           popularity  vote_average  \\\n",
       "title                                                                 \n",
       "10 Cloverfield Lane                            17.892           6.9   \n",
       "12 Strong                                      13.183           5.6   \n",
       "12 Years a Slave                               16.493           7.9   \n",
       "127 Hours                                      11.435           7.0   \n",
       "13 Hours: The Secret Soldiers of Benghazi      21.486           7.0   \n",
       "\n",
       "                                           vote_count  production_budget ($M)  \\\n",
       "title                                                                           \n",
       "10 Cloverfield Lane                              4629                     5.0   \n",
       "12 Strong                                        1312                    35.0   \n",
       "12 Years a Slave                                 6631                    20.0   \n",
       "127 Hours                                        4469                    18.0   \n",
       "13 Hours: The Secret Soldiers of Benghazi        1573                    50.0   \n",
       "\n",
       "                                           domestic_gross ($M)  \\\n",
       "title                                                            \n",
       "10 Cloverfield Lane                                       72.1   \n",
       "12 Strong                                                 45.8   \n",
       "12 Years a Slave                                          56.7   \n",
       "127 Hours                                                 18.3   \n",
       "13 Hours: The Secret Soldiers of Benghazi                 52.9   \n",
       "\n",
       "                                           worldwide_gross ($M)  \\\n",
       "title                                                             \n",
       "10 Cloverfield Lane                                       108.3   \n",
       "12 Strong                                                  71.1   \n",
       "12 Years a Slave                                          181.0   \n",
       "127 Hours                                                  60.2   \n",
       "13 Hours: The Secret Soldiers of Benghazi                  69.4   \n",
       "\n",
       "                                           domestic_production_ratio  \\\n",
       "title                                                                  \n",
       "10 Cloverfield Lane                                            14.42   \n",
       "12 Strong                                                       1.31   \n",
       "12 Years a Slave                                                2.84   \n",
       "127 Hours                                                       1.02   \n",
       "13 Hours: The Secret Soldiers of Benghazi                       1.06   \n",
       "\n",
       "                                           worldwide_production_ratio  \\\n",
       "title                                                                   \n",
       "10 Cloverfield Lane                                             21.66   \n",
       "12 Strong                                                        2.03   \n",
       "12 Years a Slave                                                 9.05   \n",
       "127 Hours                                                        3.34   \n",
       "13 Hours: The Secret Soldiers of Benghazi                        1.39   \n",
       "\n",
       "                                           worldwide_domestic_ratio  \n",
       "title                                                                \n",
       "10 Cloverfield Lane                                            1.50  \n",
       "12 Strong                                                      1.55  \n",
       "12 Years a Slave                                               3.19  \n",
       "127 Hours                                                      3.29  \n",
       "13 Hours: The Secret Soldiers of Benghazi                      1.31  "
      ]
     },
     "execution_count": 10,
     "metadata": {},
     "output_type": "execute_result"
    }
   ],
   "source": [
    "joined_movies_df.head()"
   ]
  },
  {
   "cell_type": "code",
   "execution_count": 11,
   "metadata": {},
   "outputs": [
    {
     "name": "stdout",
     "output_type": "stream",
     "text": [
      "<class 'pandas.core.frame.DataFrame'>\n",
      "Index: 683 entries, 10 Cloverfield Lane to Zootopia\n",
      "Data columns (total 10 columns):\n",
      "genres                        683 non-null object\n",
      "popularity                    683 non-null float64\n",
      "vote_average                  683 non-null float64\n",
      "vote_count                    683 non-null int64\n",
      "production_budget ($M)        683 non-null float64\n",
      "domestic_gross ($M)           683 non-null float64\n",
      "worldwide_gross ($M)          683 non-null float64\n",
      "domestic_production_ratio     683 non-null float64\n",
      "worldwide_production_ratio    683 non-null float64\n",
      "worldwide_domestic_ratio      683 non-null float64\n",
      "dtypes: float64(8), int64(1), object(1)\n",
      "memory usage: 58.7+ KB\n"
     ]
    }
   ],
   "source": [
    "joined_movies_df.info()"
   ]
  },
  {
   "cell_type": "markdown",
   "metadata": {},
   "source": [
    "---\n",
    "After all of the cleaning we're still left 683 entries. As a final step we'll make a significant cut on this list by constraining our analysis to the top 101 most popular movies in our joined dataframe. From the tmdb database [documentation](https://developers.themoviedb.org/3/getting-started/popularity), we know that popularity is based on number of votes, number of views, number of favorites, how recently a movie was released, etc. This recency bias in the popularity metric is especially beneficial to our analysis as we are trying to look at what the market currently demands."
   ]
  },
  {
   "cell_type": "code",
   "execution_count": 12,
   "metadata": {},
   "outputs": [],
   "source": [
    "top_101_movies_df = joined_movies_df.sort_values(by = 'popularity', ascending = False).iloc[:101]"
   ]
  },
  {
   "cell_type": "markdown",
   "metadata": {},
   "source": [
    "## Analysis\n",
    "\n",
    "As a first step in our analysis we want to know which genres are appearing the most in the top 101 movies. A group of investors looking to start a studio and get into the business will want to know which kinds of movies they should focus on so that they have the best chance of becoming popular."
   ]
  },
  {
   "cell_type": "code",
   "execution_count": 13,
   "metadata": {},
   "outputs": [
    {
     "name": "stdout",
     "output_type": "stream",
     "text": [
      "[('music', 2), ('history', 4), ('war', 5), ('horror', 7), ('mystery', 11), ('crime', 11), ('animated', 14), ('family', 18), ('comedy', 23), ('thriller', 25), ('fantasy', 26), ('sci-fi', 35), ('drama', 37), ('adventure', 46), ('action', 55)]\n"
     ]
    },
    {
     "data": {
      "image/png": "[encoded data removed]",
      "text/plain": [
       "<Figure size 864x288 with 1 Axes>"
      ]
     },
     "metadata": {
      "needs_background": "light"
     },
     "output_type": "display_data"
    }
   ],
   "source": [
    "plot_genre_counts(top_101_movies_df)"
   ]
  },
  {
   "cell_type": "markdown",
   "metadata": {},
   "source": [
    "Here we see that action and adventure are by far the most common of the top 101 most popular movies. Drama and sci-fi also happen to be pretty frequent, along with fantasies and thrillers. We've also output the actual counts to show what doesn't appear in the top 10. Note that the number of counts does not sum to 101 as there are many movies with overlapping genres. We have not yet performed an analysis on which genres most frequently overlap, so we are making the assumption that we can treat them somewhat independently. This is a broad assumption, but this chart still allows us to see that if a movie falls under the action genre that it has a better chance of appearing among the most popular.\n",
    "\n",
    "Now that we've seen what shows up most often, we will also look at which movies among the top 101 most popular have the highest average popularity rating. While we see that action and adventure movies are overwhelmingly common, it's also important that they consistently perform well."
   ]
  },
  {
   "cell_type": "code",
   "execution_count": 14,
   "metadata": {},
   "outputs": [
    {
     "data": {
      "image/png": "[encoded data removed]",
      "text/plain": [
       "<Figure size 864x288 with 1 Axes>"
      ]
     },
     "metadata": {
      "needs_background": "light"
     },
     "output_type": "display_data"
    }
   ],
   "source": [
    "plot_avg_genre_stats(top_101_movies_df, 'popularity')"
   ]
  },
  {
   "cell_type": "markdown",
   "metadata": {},
   "source": [
    "Interestingly, but perhaps not surprisingly, action and adventure movies have the highest average popularity. Also interesting to note is that sci-fi and fantasy genres come in second and third on this chart, while they are fourth and fifth on the chart for number of appearances. Drama, which is third for number of appearances, makes a significant drop down to the ninth place in terms of popularity. Note also that music appears in the fifth spot here. However, it only appears in the top 101 movies 2 times, so this statistic is not necessarily significant. If we were to make a recommendation to a potential studio, we would say that action and adventure should be the primary genres to focus on as they both appear in the top 101 movies often while also being rated the highest on average.\n",
    "\n",
    "---\n",
    "\n",
    "The next question we will address is whether or not it is beneficial to release movies on an international versus domestic scale. This will be filtered by rating in order to see if there is a correlation between worldwide versus domestic profit for movies with higher ratings. We will use our worldwide to domestic gross ratio as a metric to determine this."
   ]
  },
  {
   "cell_type": "code",
   "execution_count": 17,
   "metadata": {},
   "outputs": [
    {
     "data": {
      "text/html": [
       "<div>\n",
       "<style scoped>\n",
       "    .dataframe tbody tr th:only-of-type {\n",
       "        vertical-align: middle;\n",
       "    }\n",
       "\n",
       "    .dataframe tbody tr th {\n",
       "        vertical-align: top;\n",
       "    }\n",
       "\n",
       "    .dataframe thead th {\n",
       "        text-align: right;\n",
       "    }\n",
       "</style>\n",
       "<table border=\"1\" class=\"dataframe\">\n",
       "  <thead>\n",
       "    <tr style=\"text-align: right;\">\n",
       "      <th></th>\n",
       "      <th>count</th>\n",
       "      <th>worldwide/domestic profit</th>\n",
       "    </tr>\n",
       "    <tr>\n",
       "      <th>vote_average</th>\n",
       "      <th></th>\n",
       "      <th></th>\n",
       "    </tr>\n",
       "  </thead>\n",
       "  <tbody>\n",
       "    <tr>\n",
       "      <td>(5.5, 6.3]</td>\n",
       "      <td>8</td>\n",
       "      <td>2.688750</td>\n",
       "    </tr>\n",
       "    <tr>\n",
       "      <td>(6.3, 7.1]</td>\n",
       "      <td>31</td>\n",
       "      <td>2.511290</td>\n",
       "    </tr>\n",
       "    <tr>\n",
       "      <td>(7.1, 7.9]</td>\n",
       "      <td>48</td>\n",
       "      <td>2.460625</td>\n",
       "    </tr>\n",
       "    <tr>\n",
       "      <td>(7.9, 8.7]</td>\n",
       "      <td>14</td>\n",
       "      <td>2.972143</td>\n",
       "    </tr>\n",
       "  </tbody>\n",
       "</table>\n",
       "</div>"
      ],
      "text/plain": [
       "              count  worldwide/domestic profit\n",
       "vote_average                                  \n",
       "(5.5, 6.3]        8                   2.688750\n",
       "(6.3, 7.1]       31                   2.511290\n",
       "(7.1, 7.9]       48                   2.460625\n",
       "(7.9, 8.7]       14                   2.972143"
      ]
     },
     "execution_count": 17,
     "metadata": {},
     "output_type": "execute_result"
    }
   ],
   "source": [
    "profit_ratio_df = top_101_movies_df.groupby(pd.cut(top_101_movies_df['vote_average'],\n",
    "                                                    bins=np.arange(5.5, 9, step=.8),\n",
    "                           include_lowest=False))['worldwide_domestic_ratio'].agg(['count','mean'])\n",
    "\n",
    "profit_ratio_df.rename(columns = {'mean': 'worldwide/domestic profit'}, inplace = True)\n",
    "profit_ratio_df"
   ]
  },
  {
   "cell_type": "markdown",
   "metadata": {},
   "source": [
    "Regardless of the average rating, it seems to be beneficial to release movies on a worldwide scale if you can ensure that your movie is going to be among the top 101 most popular. If you can ensure an average rating above 7.9, you can increase the profit ratio from around approximately 2.5 to 3.\n",
    "\n",
    "Next, we will address the gross profit itself on a worldwide scale based on ratings. A natural assumption to make would be that higher rated movies will also gross higher, so let's try to confirm that."
   ]
  },
  {
   "cell_type": "code",
   "execution_count": 18,
   "metadata": {},
   "outputs": [
    {
     "data": {
      "text/html": [
       "<div>\n",
       "<style scoped>\n",
       "    .dataframe tbody tr th:only-of-type {\n",
       "        vertical-align: middle;\n",
       "    }\n",
       "\n",
       "    .dataframe tbody tr th {\n",
       "        vertical-align: top;\n",
       "    }\n",
       "\n",
       "    .dataframe thead th {\n",
       "        text-align: right;\n",
       "    }\n",
       "</style>\n",
       "<table border=\"1\" class=\"dataframe\">\n",
       "  <thead>\n",
       "    <tr style=\"text-align: right;\">\n",
       "      <th></th>\n",
       "      <th>count</th>\n",
       "      <th>Average Worldwide Gross ($M)</th>\n",
       "    </tr>\n",
       "    <tr>\n",
       "      <th>vote_average</th>\n",
       "      <th></th>\n",
       "      <th></th>\n",
       "    </tr>\n",
       "  </thead>\n",
       "  <tbody>\n",
       "    <tr>\n",
       "      <td>(5.5, 6.3]</td>\n",
       "      <td>8</td>\n",
       "      <td>408.112500</td>\n",
       "    </tr>\n",
       "    <tr>\n",
       "      <td>(6.3, 7.1]</td>\n",
       "      <td>31</td>\n",
       "      <td>505.580645</td>\n",
       "    </tr>\n",
       "    <tr>\n",
       "      <td>(7.1, 7.9]</td>\n",
       "      <td>48</td>\n",
       "      <td>608.643750</td>\n",
       "    </tr>\n",
       "    <tr>\n",
       "      <td>(7.9, 8.7]</td>\n",
       "      <td>14</td>\n",
       "      <td>626.492857</td>\n",
       "    </tr>\n",
       "  </tbody>\n",
       "</table>\n",
       "</div>"
      ],
      "text/plain": [
       "              count  Average Worldwide Gross ($M)\n",
       "vote_average                                     \n",
       "(5.5, 6.3]        8                    408.112500\n",
       "(6.3, 7.1]       31                    505.580645\n",
       "(7.1, 7.9]       48                    608.643750\n",
       "(7.9, 8.7]       14                    626.492857"
      ]
     },
     "execution_count": 18,
     "metadata": {},
     "output_type": "execute_result"
    }
   ],
   "source": [
    "vote_avg_df = top_101_movies_df.groupby(pd.cut(top_101_movies_df['vote_average'],\n",
    "                                                    bins=np.arange(5.5, 9, step=.8),\n",
    "                           include_lowest=False))['worldwide_gross ($M)'].agg(['count','mean'])\n",
    "\n",
    "vote_avg_df.rename(columns = {'mean': 'Average Worldwide Gross ($M)'}, inplace = True)\n",
    "vote_avg_df"
   ]
  },
  {
   "cell_type": "markdown",
   "metadata": {},
   "source": [
    "This is pretty much in line with our expectations. Additionally, a studio would want to consider that being able to report high ratings in conjunction with high grossing films on the international scale will boost their public image.\n",
    "\n",
    "For the final parts of our analysis we will explore the relationships between production budget and worldwide gross, as well as production budget and the worldwide to production budget ratio. The classic is that you have to spend money to make money. We expect that spending more money on production will lead to higher worldwide profits (and as seen above, higher ratings). But we also want to know if spending more money means that your profit to production ratio is going to increase"
   ]
  },
  {
   "cell_type": "code",
   "execution_count": 19,
   "metadata": {},
   "outputs": [
    {
     "data": {
      "image/png": "[encoded data removed]",
      "text/plain": [
       "<Figure size 864x432 with 2 Axes>"
      ]
     },
     "metadata": {
      "needs_background": "light"
     },
     "output_type": "display_data"
    }
   ],
   "source": [
    "fig, (axs1, axs2) = plt.subplots(1,2, figsize = (12,6))\n",
    "\n",
    "sns.set_context(\"talk\")\n",
    "sns.regplot(top_101_movies_df['production_budget ($M)'],\n",
    "                top_101_movies_df['worldwide_gross ($M)'], ax = axs1). \\\n",
    "                set_title('Effect of Budget on Worldwide Gross')\n",
    "sns.scatterplot(top_101_movies_df['production_budget ($M)'],\n",
    "                top_101_movies_df['worldwide_production_ratio'], ax = axs2). \\\n",
    "                set_title('Effect of Budget on Worldwide Profit Ratio')\n",
    "\n",
    "axs2.set_ylim(0,25)\n",
    "\n",
    "plt.tight_layout()"
   ]
  },
  {
   "cell_type": "markdown",
   "metadata": {},
   "source": [
    "From the regplot on the left it certainly looks like the classic saying is true. Spending more money on your movies is good if you want them to gross highly on a worldwide scale. Interestingly, though, a higher production budget doesn't necessarily mean that the movie is going to have an enormous profit ratio. For production budgets around or below 50 million dollars, there are sometimes profit ratios up to 25x! After this threshold it appears that there is a very slight increase in the profit ratio, but it's nothing to really write home about. Since there's not much data for these movies with enormous returns, it would be unrealistic to expect big returns if the focus is in this area. Pursuing this route may also give the studio a reputation of being cheap."
   ]
  },
  {
   "cell_type": "markdown",
   "metadata": {},
   "source": [
    "## Conclusions\n",
    "\n",
    "All of this work cleaning our data and performing our basic analysis has led to some interesting conclusions that we'll summarize here.\n",
    "\n",
    "1.) Action and adventure movies are appear the most frequently in the top 101 most popular movies. They also have the highest average popularity.\n",
    "\n",
    "2.) If a movie is in the top 101 in popularity rankings, it can make between 2.5 to 3 times more money if it's released on an international scale.\n",
    "\n",
    "3.) Movies with higher average ratings tend to generate more revenue on a worldwide scale. \n",
    "\n",
    "4.) Having a low production budget can sometimes lead to enormous profit ratios, but this isn't guarenteed. Focusing on good, quality movies that also have good ratings is important."
   ]
  }
 ],
 "metadata": {
  "kernelspec": {
   "display_name": "Python [conda env:learn-env] *",
   "language": "python",
   "name": "conda-env-learn-env-py"
  },
  "language_info": {
   "codemirror_mode": {
    "name": "ipython",
    "version": 3
   },
   "file_extension": ".py",
   "mimetype": "text/x-python",
   "name": "python",
   "nbconvert_exporter": "python",
   "pygments_lexer": "ipython3",
   "version": "3.6.9"
  }
 },
 "nbformat": 4,
 "nbformat_minor": 4
}
